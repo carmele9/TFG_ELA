{
 "cells": [
  {
   "cell_type": "code",
   "execution_count": null,
   "id": "initial_id",
   "metadata": {
    "collapsed": true
   },
   "outputs": [],
   "source": [
    "import pandas as pd\n",
    "from data.data_generator import generate_dataset\n",
    "from pipeline.preprocessor import preprocess_data\n",
    "from models.lstm_model import LSTMModel\n",
    "from sklearn.model_selection import train_test_split\n",
    "\n",
    "def main():\n",
    "    # 1. Cargar o generar datos\n",
    "    df = generate_dataset(n_patients=100, n_timesteps=200)\n",
    "\n",
    "    # 2. Preprocesar (escala, reshape, etc.)\n",
    "    X, y = preprocess_data(df)\n",
    "\n",
    "    # 3. Separar datos\n",
    "    X_train, X_test, y_train, y_test = train_test_split(X, y, test_size=0.2, shuffle=False)\n",
    "\n",
    "    # 4. Crear y entrenar el modelo\n",
    "    model = LSTMModel(input_shape=X_train.shape[1:], output_size=1)\n",
    "    model.train(X_train, y_train, epochs=10)\n",
    "\n",
    "    # 5. Evaluar\n",
    "    predictions = model.predict(X_test)\n",
    "    print(\"Predicciones ejemplo:\", predictions[:5])\n",
    "\n",
    "if __name__ == \"__main__\":\n",
    "    main()\n"
   ]
  }
 ],
 "metadata": {
  "kernelspec": {
   "display_name": "Python 3",
   "language": "python",
   "name": "python3"
  },
  "language_info": {
   "codemirror_mode": {
    "name": "ipython",
    "version": 2
   },
   "file_extension": ".py",
   "mimetype": "text/x-python",
   "name": "python",
   "nbconvert_exporter": "python",
   "pygments_lexer": "ipython2",
   "version": "2.7.6"
  }
 },
 "nbformat": 4,
 "nbformat_minor": 5
}
